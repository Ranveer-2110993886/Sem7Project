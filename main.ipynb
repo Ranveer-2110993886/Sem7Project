{
 "cells": [
  {
   "cell_type": "code",
   "execution_count": 34,
   "metadata": {},
   "outputs": [],
   "source": [
    "from flask import Flask, jsonify, request, url_for, render_template\n",
    "from flask_cors import CORS"
   ]
  },
  {
   "cell_type": "code",
   "execution_count": 37,
   "metadata": {},
   "outputs": [],
   "source": [
    "import joblib\n",
    "from sklearn.feature_extraction.text import TfidfVectorizer\n",
    "tfidf_vect = TfidfVectorizer(stop_words = 'english')\n",
    "saved_model = joblib.load('random_forest_model.pkl')\n",
    "tfidf_vect = joblib.load('tfidf_vectorizer.pkl')  # Load the fitted vectorizer"
   ]
  },
  {
   "cell_type": "code",
   "execution_count": 38,
   "metadata": {},
   "outputs": [
    {
     "name": "stdout",
     "output_type": "stream",
     "text": [
      " * Serving Flask app '__main__'\n",
      " * Debug mode: off\n"
     ]
    },
    {
     "name": "stderr",
     "output_type": "stream",
     "text": [
      "WARNING: This is a development server. Do not use it in a production deployment. Use a production WSGI server instead.\n",
      " * Running on http://127.0.0.1:5000\n",
      "Press CTRL+C to quit\n",
      "127.0.0.1 - - [24/Sep/2024 11:58:13] \"GET / HTTP/1.1\" 200 -\n",
      "127.0.0.1 - - [24/Sep/2024 11:58:13] \"GET /static/style.css HTTP/1.1\" 304 -\n",
      "127.0.0.1 - - [24/Sep/2024 11:58:13] \"GET /static/icons8loader.gif HTTP/1.1\" 304 -\n",
      "127.0.0.1 - - [24/Sep/2024 11:58:13] \"GET /static/dynamic.js HTTP/1.1\" 304 -\n",
      "127.0.0.1 - - [24/Sep/2024 11:58:20] \"POST /data HTTP/1.1\" 200 -\n",
      "127.0.0.1 - - [24/Sep/2024 11:58:20] \"GET /data HTTP/1.1\" 200 -\n",
      "127.0.0.1 - - [24/Sep/2024 11:58:52] \"GET / HTTP/1.1\" 200 -\n",
      "127.0.0.1 - - [24/Sep/2024 11:58:52] \"GET /static/style.css HTTP/1.1\" 304 -\n",
      "127.0.0.1 - - [24/Sep/2024 11:58:52] \"GET /static/icons8loader.gif HTTP/1.1\" 304 -\n",
      "127.0.0.1 - - [24/Sep/2024 11:58:52] \"GET /static/dynamic.js HTTP/1.1\" 200 -\n",
      "127.0.0.1 - - [24/Sep/2024 11:58:57] \"POST /data HTTP/1.1\" 200 -\n",
      "127.0.0.1 - - [24/Sep/2024 11:58:57] \"GET /data HTTP/1.1\" 200 -\n",
      "127.0.0.1 - - [24/Sep/2024 11:59:34] \"GET / HTTP/1.1\" 200 -\n",
      "127.0.0.1 - - [24/Sep/2024 11:59:34] \"GET /static/style.css HTTP/1.1\" 304 -\n",
      "127.0.0.1 - - [24/Sep/2024 11:59:34] \"GET /static/icons8loader.gif HTTP/1.1\" 304 -\n",
      "127.0.0.1 - - [24/Sep/2024 11:59:34] \"GET /static/dynamic.js HTTP/1.1\" 200 -\n",
      "127.0.0.1 - - [24/Sep/2024 11:59:40] \"POST /data HTTP/1.1\" 200 -\n",
      "127.0.0.1 - - [24/Sep/2024 11:59:40] \"GET /data HTTP/1.1\" 200 -\n"
     ]
    }
   ],
   "source": [
    "app = Flask(__name__) \n",
    "CORS(app) \n",
    "\n",
    "@app.route(\"/\")\n",
    "def index():\n",
    "    return render_template(\"index.html\")\n",
    "\n",
    "current_news = \"\"\n",
    "\n",
    "@app.route(\"/data\", methods=[\"GET\", \"POST\"]) \n",
    "def dataex():\n",
    "    global current_news\n",
    "    if request.method == \"POST\": \n",
    "        data = request.get_json()\n",
    "        #print(data, flush = True)\n",
    "        current_news = data[\"news\"]\n",
    "        return {\"message\": \"Success!\"}\n",
    "    \n",
    "    elif request.method == \"GET\":\n",
    "        new_article = [str(current_news)]\n",
    "        new_article_tfidf = tfidf_vect.transform(new_article)  # Use transform to avoid fitting\n",
    "        probabilities = saved_model.predict_proba(new_article_tfidf)\n",
    "        return jsonify(probabilities.tolist())  # Convert to list fo\n",
    "\n",
    "    \n",
    "if __name__ == '__main__':\n",
    "    app.run()"
   ]
  }
 ],
 "metadata": {
  "kernelspec": {
   "display_name": "Python 3",
   "language": "python",
   "name": "python3"
  },
  "language_info": {
   "codemirror_mode": {
    "name": "ipython",
    "version": 3
   },
   "file_extension": ".py",
   "mimetype": "text/x-python",
   "name": "python",
   "nbconvert_exporter": "python",
   "pygments_lexer": "ipython3",
   "version": "3.12.3"
  }
 },
 "nbformat": 4,
 "nbformat_minor": 2
}
